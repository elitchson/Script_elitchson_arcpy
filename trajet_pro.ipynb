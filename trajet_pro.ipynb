{
 "cells": [
  {
   "cell_type": "code",
   "execution_count": 11,
   "metadata": {},
   "outputs": [
    {
     "name": "stdout",
     "output_type": "stream",
     "text": [
      "Les valeurs ont été insérées avec succès! :)\n"
     ]
    }
   ],
   "source": [
    "###Ce script sert à remplir une serie de valeur###\n",
    "import arcpy\n",
    "\n",
    "# Chemin vers la table ou la classe d'entités ou de l'environnement de travail\n",
    "arcpy.env.workspace = r\"G:\\CARTOGRAPHIE\\Carto_Komla\\Mise_a_jour_ligne\\Mide_a_jour_ligne\\Mide_a_jour_ligne.gdb\"\n",
    "t_ligne = \"t_ligne_15062023_polyline\"\n",
    "l_arligne = \"l_arret_ligne_15062023_none\"\n",
    "\n",
    "# Sélection des attributs à mettre à jour\n",
    "where_clause = \"ligne_code = '43' AND sens = 0 AND chemin = '3'\"\n",
    "selection_t = arcpy.management.SelectLayerByAttribute(\"t_ligne_15062023_polyline\", \"NEW_SELECTION\", where_clause)\n",
    "\n",
    "# Initialisation de la liste de valeur répétées\n",
    "nombre_lignes = int(arcpy.GetCount_management(selection_t)[0])\n",
    "valeurs = list(range(1, int(nombre_lignes) + 1))\n",
    "\n",
    "# Nom de la colonne à mettre à jour \n",
    "colonne = \"trajet_pro\"\n",
    "\n",
    "# Mettre à jour la colonne \"trajet_pro\" avec les nouvelles valeurs\n",
    "with arcpy.da.UpdateCursor(selection_t, colonne) as cursor:\n",
    "    for row in cursor:\n",
    "        valeur = valeurs.pop(0)\n",
    "        row[0] = valeur\n",
    "        cursor.updateRow(row)\n",
    "\n",
    "print(\"Les valeurs ont été insérées avec succès! :)\")\n"
   ]
  },
  {
   "cell_type": "code",
   "execution_count": null,
   "metadata": {},
   "outputs": [],
   "source": []
  }
 ],
 "metadata": {
  "kernelspec": {
   "display_name": "ArcGISPro",
   "language": "Python",
   "name": "python3"
  },
  "language_info": {
   "file_extension": ".py",
   "name": "python",
   "version": "3"
  }
 },
 "nbformat": 4,
 "nbformat_minor": 2
}
