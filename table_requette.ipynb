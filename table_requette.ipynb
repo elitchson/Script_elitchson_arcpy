{
 "cells": [
  {
   "cell_type": "code",
   "execution_count": 28,
   "metadata": {},
   "outputs": [
    {
     "data": {
      "text/html": [
       "<h2>Output</h2>a Table object<h2>Messages</h2>Start Time: lundi 17 juillet 2023 23:29:40<br/>Succeeded at lundi 17 juillet 2023 23:29:43 (Elapsed Time: 2,78 seconds)<br/><style>.rendered_html td, .rendered_html th {text-align: left;}.rendered_html tbody {border: 1px solid black;}</style>"
      ],
      "text/plain": [
       "<Result 'Thermo_43_0_C3'>"
      ]
     },
     "execution_count": 28,
     "metadata": {},
     "output_type": "execute_result"
    }
   ],
   "source": [
    "###Ce script sert à extrait une table de plusieurs colonnes de table différentes ###\n",
    "arcpy.management.MakeQueryTable(\n",
    "    in_table=\"l_arret_ligne_15062023_none;t_arret_15062023_point;t_ligne_15062023_polyline\",\n",
    "    out_table=\"Thermo_43_0_C3\",\n",
    "    in_key_field_option=\"USE_KEY_FIELDS\",\n",
    "    in_key_field=None,\n",
    "    in_field=\"t_arret_15062023_point.idap #;t_arret_15062023_point.nom_arret #;t_arret_15062023_point.rgf93_x #;t_arret_15062023_point.rgf93_y #;l_arret_ligne_15062023_none.ordre_arre #;t_ligne_15062023_polyline.ligne_code #;t_ligne_15062023_polyline.ligne_nom #;t_ligne_15062023_polyline.sens #;t_ligne_15062023_polyline.chemin #;l_arret_ligne_15062023_none.id_ligne #;l_arret_ligne_15062023_none.type_arret #;l_arret_ligne_15062023_none.type_arret #\",\n",
    "    where_clause=\"\"\"t_arret_15062023_point.idap = l_arret_ligne_15062023_none.idap And t_ligne_15062023_polyline.id_ligne = l_arret_ligne_15062023_none.id_ligne And t_ligne_15062023_polyline.ligne_code = '43' And t_ligne_15062023_polyline.sens = 0 And t_ligne_15062023_polyline.chemin = '3' \n",
    " ORDER BY t_ligne_15062023_polyline.chemin,t_ligne_15062023_polyline.sens,l_arret_ligne_15062023_none.ordre_arre\"\"\"\n",
    ")"
   ]
  },
  {
   "cell_type": "code",
   "execution_count": null,
   "metadata": {},
   "outputs": [],
   "source": []
  }
 ],
 "metadata": {
  "kernelspec": {
   "display_name": "ArcGISPro",
   "language": "Python",
   "name": "python3"
  },
  "language_info": {
   "file_extension": ".py",
   "name": "python",
   "version": "3"
  }
 },
 "nbformat": 4,
 "nbformat_minor": 2
}
