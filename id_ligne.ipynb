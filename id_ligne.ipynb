{
 "cells": [
  {
   "cell_type": "code",
   "execution_count": 17,
   "metadata": {},
   "outputs": [
    {
     "name": "stdout",
     "output_type": "stream",
     "text": [
      "Les valeurs ont été insérées avec succès! :)\n"
     ]
    }
   ],
   "source": [
    "###Ce script pour concatener plusieurs colonnes en une ###\n",
    "import arcpy\n",
    "\n",
    "# Chemin vers la table ou la classe d'entités ou de l'environnement de travail\n",
    "arcpy.env.workspace = r\"C:\\Users\\elitc\\OneDrive\\Bureau\\UN\\Docs_Cours\\M1\\RLA\\MAJ\\majL\\majL.gdb\"\n",
    "t_ligne = \"t_ligne_15062023_polyline\"\n",
    "l_arligne = \"l_arret_ligne_15062023_none\"\n",
    "\n",
    "# Sélection des attributs à mettre à jour\n",
    "where_clause = \"ligne_sens = '43_0_3'\"\n",
    "selection_t = arcpy.management.SelectLayerByAttribute(l_arligne, \"NEW_SELECTION\", where_clause)\n",
    "\n",
    "# Définition des noms des colonnes à concaténer\n",
    "colonne= [\"ordre_arre\",\"ligne_sens\",\"noeud_tron\",\"id_ligne\"]\n",
    "\n",
    "# Fonction pour effectuer la concaténation des colonnes\n",
    "def concatener(row):\n",
    "    if row[2] == \"arrivée\":\n",
    "        resultat = f\"{row[1]}_{int(row[0]) - 1}\"\n",
    "    else:\n",
    "        resultat = f\"{row[1]}_{int(row[0])}\"\n",
    "    return resultat\n",
    "\n",
    "# Mise à jour de la colonne avec les valeurs concaténées\n",
    "with arcpy.da.UpdateCursor(selection_t, colonne) as cursor:\n",
    "    for row in cursor:\n",
    "        valeur_concatenee = concatener(row)\n",
    "        row[3] = valeur_concatenee \n",
    "        cursor.updateRow(row)\n",
    "\n",
    "print(\"Les valeurs ont été insérées avec succès! :)\")"
   ]
  },
  {
   "cell_type": "code",
   "execution_count": null,
   "metadata": {},
   "outputs": [],
   "source": []
  }
 ],
 "metadata": {
  "kernelspec": {
   "display_name": "ArcGISPro",
   "language": "Python",
   "name": "python3"
  },
  "language_info": {
   "file_extension": ".py",
   "name": "python",
   "version": "3"
  }
 },
 "nbformat": 4,
 "nbformat_minor": 2
}
