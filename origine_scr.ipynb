{
 "cells": [
  {
   "cell_type": "code",
   "execution_count": 218,
   "metadata": {},
   "outputs": [],
   "source": [
    "import arcpy \n",
    "arcpy.env.workspace=r\"H:\\verif1\\verif1ligne\\verif1ligne.gdb\"\n",
    "t_ligne=\"t_ligne_15062023_polyline\"\n",
    "l_arligne=\"l_arret_ligne_15062023_none\"\n"
   ]
  },
  {
   "cell_type": "code",
   "execution_count": 198,
   "metadata": {},
   "outputs": [
    {
     "name": "stdout",
     "output_type": "stream",
     "text": [
      "24721\n"
     ]
    }
   ],
   "source": [
    "colonne=\"idl_arrete\"\n",
    "#arcpy.management.DeleteIdentical(\"l_arret_ligne_15062023_none\", \"idl_arrete\", None, 0)\n",
    "max_value = None\n",
    "with arcpy.da.SearchCursor(l_arligne, [colonne]) as cursor:\n",
    "    for row in cursor:\n",
    "        value = row[0]\n",
    "        if max_value is None or value > max_value:\n",
    "            max_value = int(value)\n",
    "idl_valeurs=list(range(max_value,int(nombre_lignes+max_value))) \n",
    "selection_t =arcpy.management.SelectLayerByAttribute(\"l_arret_ligne_15062023_none\", \"NEW_SELECTION\", \"ligne_sens = '22_1_1'\", None)\n",
    "with arcpy.da.UpdateCursor(selection_t, colonne) as cursor:\n",
    "    for row in cursor:\n",
    "        for i, col in sorted(enumerate(colonne)):\n",
    "            if col==\"idl_arrete\":\n",
    "                  if row[i] is None:\n",
    "                          row[i] = idl_valeurs.pop(0)\n",
    "               \n",
    "            cursor.updateRow(row)"
   ]
  },
  {
   "cell_type": "code",
   "execution_count": 199,
   "metadata": {},
   "outputs": [],
   "source": [
    "selection_t =arcpy.management.SelectLayerByAttribute(\"l_arret_ligne_15062023_none\", \"NEW_SELECTION\", \"ligne_sens = '22_1_1'\", None)\n",
    "#selection_l =arcpy.management.SelectLayerByAttribute(\"l_arret_ligne_15062023_none\", \"NEW_SELECTION\", \"ligne_sens = '12_0_1'\", None)\n",
    "colonne = [\"ligne_sens\", \"date_explo\", \"type_arret\", \"idl_arrete\"]\n",
    "nombre_lignes= int(arcpy.GetCount_management(selection_t)[0])\n",
    "valeurs=list(range(1,int(nombre_lignes/2)+2))\n",
    "idl_valeurs=list(range(max_value,int(nombre_lignes+max_value)) \n",
    "nombre_valeurs = len(valeurs)\n",
    "nombre_repetitions = nombre_lignes//nombre_valeurs\n",
    "valeurs_repetees = valeurs * nombre_repetitions\n",
    "valeurs_repetees.extend(valeurs[:nombre_valeurs+1])\n",
    "del valeurs_repetees[0]\n",
    "del valeurs_repetees[-1]\n",
    "val_col=[\"22_2_2\", \"2024\"]"
   ]
  },
  {
   "cell_type": "code",
   "execution_count": 138,
   "metadata": {},
   "outputs": [],
   "source": [
    "compteur = 0\n",
    "depart = \"départ\"\n",
    "arrivee = \"arrivée\"\n",
    "\n",
    "with arcpy.da.UpdateCursor(selection_t, colonne) as cursor:\n",
    "    for row in cursor:\n",
    "        for i, col in sorted(enumerate(colonne)):\n",
    "            if col in (\"date_explo\", \"ligne_sens\"):\n",
    "                row[i] = val_col[i]\n",
    "            elif col == \"type_arret\":\n",
    "                if compteur % 2 == 0:\n",
    "                    row[i] = depart\n",
    "                else:\n",
    "                    row[i] = arrivee\n",
    "                compteur += 1\n",
    "            else:\n",
    "                valeur = valeurs_repetees.pop(0)\n",
    "                row[i] = valeur\n",
    "        cursor.updateRow(row)"
   ]
  },
  {
   "cell_type": "code",
   "execution_count": 137,
   "metadata": {},
   "outputs": [
    {
     "name": "stdout",
     "output_type": "stream",
     "text": [
      "2\n",
      "6\n",
      "10\n",
      "2\n",
      "6\n",
      "10\n",
      "2\n",
      "6\n",
      "10\n",
      "2\n",
      "6\n",
      "10\n"
     ]
    }
   ],
   "source": [
    "arcpy.management.DeleteIdentical(\"l_arret_ligne_15062023_none\", \"idl_arrete\", None, 0)\n",
    "\n"
   ]
  },
  {
   "cell_type": "code",
   "execution_count": 202,
   "metadata": {},
   "outputs": [
    {
     "name": "stdout",
     "output_type": "stream",
     "text": [
      "[24721, 24722, 24723, 24724, 24725, 24726, 24727, 24728, 24729, 24730, 24731, 24732, 24733, 24734, 24735, 24736, 24737, 24738, 24739, 24740, 24741, 24742, 24743, 24744, 24745, 24746, 24747, 24748, 24749, 24750, 24751, 24752, 24753, 24754, 24755, 24756, 24757, 24758, 24759, 24760, 24761, 24762, 24763, 24764, 24765, 24766, 24767, 24768, 24769, 24770, 24771, 24772, 24773, 24774, 24775, 24776]\n"
     ]
    }
   ],
   "source": [
    "idl_valeurs=list(range(max_value,int(nombre_lignes+max_value)))\n",
    "print(idl_valeurs)"
   ]
  },
  {
   "cell_type": "code",
   "execution_count": 219,
   "metadata": {},
   "outputs": [
    {
     "name": "stdout",
     "output_type": "stream",
     "text": [
      "Nombre de doublons sélectionnés : 151\n"
     ]
    }
   ],
   "source": [
    "# Nom de la colonne pour laquelle vous souhaitez sélectionner les doublons\n",
    "colonne_doublons = \"idl_arrete\"\n",
    "\n",
    "# Dictionnaire pour suivre les occurrences des valeurs dans la colonne\n",
    "occurrences = {}\n",
    "\n",
    "# Liste pour stocker les doublons trouvés\n",
    "doublons = []\n",
    "\n",
    "# Parcourir les lignes de la table pour trouver les doublons\n",
    "with arcpy.da.SearchCursor(l_arligne, [colonne_doublons]) as cursor:\n",
    "    for row in cursor:\n",
    "        value = row[0]\n",
    "        if value in occurrences:\n",
    "            doublons.append(value)\n",
    "        else:\n",
    "            occurrences[value] = 1\n",
    "\n",
    "# Créer une requête de sélection pour les doublons\n",
    "requete_selection = f\"{colonne_doublons} IN {tuple(doublons)}\"\n",
    "\n",
    "# Sélectionner les doublons\n",
    "arcpy.management.SelectLayerByAttribute(l_arligne, \"NEW_SELECTION\", requete_selection)\n",
    "\n",
    "# Vérifier le nombre de doublons sélectionnés\n",
    "nombre_doublons_selectionnes = int(arcpy.GetCount_management(l_arligne)[0])\n",
    "print(f\"Nombre de doublons sélectionnés : {nombre_doublons_selectionnes}\")"
   ]
  },
  {
   "cell_type": "code",
   "execution_count": null,
   "metadata": {},
   "outputs": [],
   "source": []
  }
 ],
 "metadata": {
  "kernelspec": {
   "display_name": "ArcGISPro",
   "language": "Python",
   "name": "python3"
  },
  "language_info": {
   "file_extension": ".py",
   "name": "python",
   "version": "3"
  }
 },
 "nbformat": 4,
 "nbformat_minor": 2
}
