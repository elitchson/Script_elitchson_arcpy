{
 "cells": [
  {
   "cell_type": "code",
   "execution_count": 22,
   "metadata": {},
   "outputs": [
    {
     "ename": "IndexError",
     "evalue": "pop from empty list",
     "output_type": "error",
     "traceback": [
      "\u001b[0;31m---------------------------------------------------------------------------\u001b[0m\n\u001b[0;31mIndexError\u001b[0m                                Traceback (most recent call last)",
      "In  \u001b[0;34m[22]\u001b[0m:\nLine \u001b[0;34m33\u001b[0m:    valeur = valeurs_repetees.pop(\u001b[34m0\u001b[39;49;00m)\n",
      "\u001b[0;31mIndexError\u001b[0m: pop from empty list\n\u001b[0;31m---------------------------------------------------------------------------\u001b[0m"
     ]
    }
   ],
   "source": [
    "###Ce script sert à remplir une serie de valeur###\n",
    "import arcpy \n",
    "\n",
    "# Chemin vers la table ou la classe d'entités ou de l'environnement de travail\n",
    "arcpy.env.workspace = r\"C:\\Users\\elitc\\OneDrive\\Bureau\\UN\\Docs_Cours\\M1\\RLA\\MAJ\\majL\\majL.gdb\"\n",
    "t_ligne = \"t_ligne_15062023_polyline\"\n",
    "l_arligne = \"l_arret_ligne_15062023_none\"\n",
    "table_methode = \"T43_0_3\"\n",
    "\n",
    "# Sélection des attributs à mettre à jour\n",
    "where_clause = \"ligne_sens = '43_0_3'\"\n",
    "selection_t = arcpy.management.SelectLayerByAttribute(l_arligne, \"NEW_SELECTION\", where_clause)\n",
    "\n",
    "# Utilisation de la recherche (SearchCursor) pour récupérer les valeurs de la colonne idap methode\n",
    "valeurs_IDAP = []\n",
    "with arcpy.da.SearchCursor(table_methode, [\"IDAP\"]) as cursor:\n",
    "    for row in cursor:\n",
    "        valeurs_IDAP.append(row[0])\n",
    "\n",
    "# Initialisation de la liste de valeurs répétées\n",
    "valeurs_repetees = []\n",
    "for i in range(len(valeurs_IDAP)):\n",
    "    valeurs_repetees.extend([valeurs_IDAP[i]] * 2)\n",
    "del valeurs_repetees[0]\n",
    "del valeurs_repetees[-1]\n",
    "# Nom de la colonne contenant les doublons\n",
    "colonne = [\"idap\",\"ligne_sens\", \"date_explo\", \"type_arret\", \"idl_arrete\"]\n",
    "# Mettre à jour la colonne \"ordre_arre\" avec les nouvelles valeurs\n",
    "with arcpy.da.UpdateCursor(selection_t, colonne) as cursor:\n",
    "    for row in cursor:\n",
    "        for i, col in enumerate(colonne):\n",
    "            if col == \"idap\":\n",
    "                valeur = valeurs_repetees.pop(0)\n",
    "                row[i] = valeur\n",
    "        cursor.updateRow(row)\n",
    "\n",
    "print(\"Les valeurs ont été insérées avec succès! :)\")\n"
   ]
  },
  {
   "cell_type": "code",
   "execution_count": null,
   "metadata": {},
   "outputs": [],
   "source": []
  }
 ],
 "metadata": {
  "kernelspec": {
   "display_name": "ArcGISPro",
   "language": "Python",
   "name": "python3"
  },
  "language_info": {
   "file_extension": ".py",
   "name": "python",
   "version": "3"
  }
 },
 "nbformat": 4,
 "nbformat_minor": 2
}
